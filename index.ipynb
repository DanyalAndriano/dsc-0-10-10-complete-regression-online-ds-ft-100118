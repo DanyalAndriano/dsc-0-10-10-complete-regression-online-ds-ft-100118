{
 "cells": [
  {
   "cell_type": "markdown",
   "metadata": {},
   "source": [
    "# Regression Lab\n",
    "\n",
    "Now have all the necessary functions to calculate the slope, intercept, best-fit line, prediction and visualizations. In this lab you will put them all together to run a regression experiment and calculate model loss. \n",
    "\n",
    "## SWBAT\n",
    "\n",
    "* Run a complete regression analysis through code only. "
   ]
  },
  {
   "cell_type": "markdown",
   "metadata": {},
   "source": [
    "## Here are all the formulas to put everything in perspective\n",
    "\n",
    "#### Slope\n",
    "<img src=\"m.png\" width = 300>\n",
    "\n",
    "#### Intercept \n",
    "<img src=\"b.png\" width = 200>\n",
    "\n",
    "#### R-squared\n",
    "<img src=\"r2.png\" width = 400>\n",
    "\n",
    "#### Prediction\n",
    "![](pred.jpg)\n",
    "\n",
    "\n",
    "Use the functions created earlier to implement these formulas to run a regression analysis using X and Y as input variables. "
   ]
  },
  {
   "cell_type": "code",
   "execution_count": 12,
   "metadata": {},
   "outputs": [],
   "source": [
    "import numpy as np\n",
    "import pandas as pd\n",
    "import scipy as stats\n",
    "from math import sqrt\n",
    "import matplotlib.pyplot as plt\n",
    "%matplotlib inline"
   ]
  },
  {
   "cell_type": "code",
   "execution_count": 13,
   "metadata": {},
   "outputs": [],
   "source": [
    "# %load reg_functions.py\n",
    "def calc_slope(xs,ys):\n",
    "    meanxs = sum(xs)/len(xs)\n",
    "    meanys = sum(ys)/len(ys)\n",
    "    xy = [a*b for a, b in list(zip(xs, ys))]\n",
    "    xs_sqr = [i * i for i in xs]\n",
    "    return (meanxs * meanys - (sum(xy)/len(xy))) / (meanxs**2 - (sum(xs_sqr)/len(xs_sqr)))\n",
    "\n",
    "def best_fit(xs,ys):\n",
    "    mean_y = sum(ys)/len(ys)\n",
    "    mean_x = sum(xs)/len(xs)\n",
    "    m = calc_slope(xs,ys)\n",
    "    b = mean_y - (m*mean_x)\n",
    "    return m, b\n",
    "\n",
    "def reg_line (m, b, xs):\n",
    "    y = [m*x + b for x in xs]\n",
    "    return y\n",
    "\n",
    "def sq_err(ys_a, ys_b):\n",
    "    sqr_error = [(a - b)**2 for a, b in list(zip(ys_a, ys_b))]\n",
    "    return sum(sqr_error)\n",
    "\n",
    "def r_squared(ys_real, ys_predicted):\n",
    "    ys_mean = sum(ys_real)/len(ys_real)\n",
    "    ssr = sq_err(ys_real, ys_predicted)\n",
    "    sst = [(a - ys_mean)**2 for a in ys_real]\n",
    "    return 1 - (ssr/sum(sst))\n"
   ]
  },
  {
   "cell_type": "code",
   "execution_count": 14,
   "metadata": {},
   "outputs": [],
   "source": [
    "# Combine all the functions created so far to run a complete regression experiment. \n",
    "# Produce an output similar to the one shown below. \n",
    "\n",
    "X = np.array([1,2,3,4,5,6,7,8,9,10], dtype=np.float64)\n",
    "Y = np.array([7,7,8,9,9,10,10,11,11,12], dtype=np.float64)\n",
    "m, b = best_fit(X, Y)\n",
    "\n",
    "y_pred = reg_line(m, b, X)\n",
    "r_sqr = r_squared(Y, y_pred)"
   ]
  },
  {
   "cell_type": "code",
   "execution_count": 21,
   "metadata": {},
   "outputs": [
    {
     "name": "stdout",
     "output_type": "stream",
     "text": [
      "Basic Regression Diagnostics\n",
      "----------------------------\n",
      "Slope: 0.56\n",
      "Y-Intercept: 6.33\n",
      "R-Squared: 0.97\n",
      "-----------------------------\n",
      "Model: Y = 0.56 * X + 6.33\n"
     ]
    }
   ],
   "source": [
    "print('Basic Regression Diagnostics')\n",
    "print('----------------------------')\n",
    "print(f\"Slope: {round(calc_slope(X, Y),2)}\")\n",
    "print(f\"Y-Intercept: {round(b, 2)}\")\n",
    "print(f\"R-Squared: {round(r_sqr, 2)}\")\n",
    "print(\"-----------------------------\")\n",
    "print(f\"Model: Y = 0.56 * X + 6.33\")\n",
    "\n"
   ]
  },
  {
   "cell_type": "markdown",
   "metadata": {},
   "source": [
    "## Make Predictions\n",
    "\n",
    "Predict and plot the value of y using regression line above for a new value of x = 4.5."
   ]
  },
  {
   "cell_type": "code",
   "execution_count": 22,
   "metadata": {},
   "outputs": [],
   "source": [
    "# Make prediction using given value and visualize on the scatter plot\n",
    "pred_val = 0.56*4.5 + 6.33\n"
   ]
  },
  {
   "cell_type": "code",
   "execution_count": 38,
   "metadata": {},
   "outputs": [
    {
     "data": {
      "text/plain": [
       "<matplotlib.collections.PathCollection at 0x2b8f1e60208>"
      ]
     },
     "execution_count": 38,
     "metadata": {},
     "output_type": "execute_result"
    },
    {
     "data": {
      "image/png": "[encoded data removed]",
      "text/plain": [
       "<Figure size 432x288 with 1 Axes>"
      ]
     },
     "metadata": {},
     "output_type": "display_data"
    }
   ],
   "source": [
    "plt.style.use('ggplot')\n",
    "plt.plot(y_pred, '--', color = 'blue')\n",
    "plt.scatter(X, Y, c='red', marker = 'o')\n",
    "plt.scatter(4.5, pred_val, color = 'green', marker = '*')"
   ]
  },
  {
   "cell_type": "markdown",
   "metadata": {},
   "source": [
    "## Level up - Optional \n",
    "Load the \"heightWeight.csv\" dataset. Use the height as an independant and weight as a dependant variable and draw a regression line to data using your code above. Calculate your R-square for the model and try to predict new values of Y. "
   ]
  },
  {
   "cell_type": "markdown",
   "metadata": {},
   "source": [
    "## Summary\n",
    "\n",
    "In this lab, we ran a complete simple regression analysis experiment using functions created so far. Next We shall see how we can use python's built in modules to perform such analyses with a much higher level of sophistication. "
   ]
  },
  {
   "cell_type": "code",
   "execution_count": null,
   "metadata": {},
   "outputs": [],
   "source": []
  }
 ],
 "metadata": {
  "kernelspec": {
   "display_name": "Python 3",
   "language": "python",
   "name": "python3"
  },
  "language_info": {
   "codemirror_mode": {
    "name": "ipython",
    "version": 3
   },
   "file_extension": ".py",
   "mimetype": "text/x-python",
   "name": "python",
   "nbconvert_exporter": "python",
   "pygments_lexer": "ipython3",
   "version": "3.6.5"
  }
 },
 "nbformat": 4,
 "nbformat_minor": 2
}
